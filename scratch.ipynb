{
 "cells": [
  {
   "cell_type": "code",
   "execution_count": 1,
   "metadata": {},
   "outputs": [],
   "source": [
    "import dill as pickle\n",
    "import numpy as np\n",
    "import matplotlib.pyplot as plt\n",
    "from pprint import pprint"
   ]
  },
  {
   "cell_type": "code",
   "execution_count": 2,
   "metadata": {},
   "outputs": [],
   "source": [
    "with open('trajectories_train.pkl', 'rb') as f:\n",
    "    data = pickle.load(f)\n",
    "with open('trajectories_test.pkl', 'rb') as f:\n",
    "    data_test = pickle.load(f)"
   ]
  },
  {
   "cell_type": "code",
   "execution_count": 3,
   "metadata": {},
   "outputs": [],
   "source": [
    "import pysindy as ps\n",
    "\n",
    "def get_sindy_model(trajectories, actions,threshold=0.5,discrete_time=False,dt=2e-2):\n",
    "    # optimizer = ps.STLSQ(threshold=threshold)\n",
    "    optimizer = ps.SR3(threshold=threshold, thresholder='l1',trimming_fraction=0.2,max_iter=10000)\n",
    "    lib = ps.GeneralizedLibrary([ps.PolynomialLibrary(), ps.FourierLibrary()])\n",
    "    der = ps.SmoothedFiniteDifference()\n",
    "    model = ps.SINDy(discrete_time=discrete_time, feature_library=lib, differentiation_method=der,\n",
    "        optimizer=optimizer)\n",
    "    model.fit(trajectories,u=actions,t=dt,multiple_trajectories=True)\n",
    "    return model"
   ]
  },
  {
   "cell_type": "code",
   "execution_count": 4,
   "metadata": {},
   "outputs": [],
   "source": [
    "def convert_data_to_traj_action(data):\n",
    "    trajectories = [np.array(traj) for traj in data['states']]\n",
    "    actions = [np.array(traj) for traj in data['actions']]\n",
    "    return trajectories, actions\n",
    "\n",
    "def convert_to_angle(trajs):\n",
    "    trajs = [np.vstack((traj[:,0], np.arctan2(traj[:,1], traj[:,2]), traj[:,3], traj[:,4])).T for traj in trajs]\n",
    "    return trajs\n",
    "\n",
    "train_traj, train_actions = convert_data_to_traj_action(data)\n",
    "test_traj, test_actions = convert_data_to_traj_action(data_test)\n",
    "train_theta = convert_to_angle(train_traj)\n",
    "test_theta = convert_to_angle(test_traj)"
   ]
  },
  {
   "cell_type": "code",
   "execution_count": 5,
   "metadata": {},
   "outputs": [
    {
     "name": "stdout",
     "output_type": "stream",
     "text": [
      "model sin/cos train score: 0.9216286421293697\n",
      "model sin/cos test score: 0.9183733627306336\n",
      "(x0)' = 0.994 x3\n",
      "(x1)' = -0.993 x2 x4\n",
      "(x2)' = 0.994 x1 x4\n",
      "(x3)' = 13.805 u0 + 1.497 x1 x2 + 0.160 x1 x3 + 0.038 x2 u0 + -0.930 sin(1 x0) + 0.960 sin(1 x2) + -11.045 sin(1 u0)\n",
      "(x4)' = -0.126 x3 + 0.579 u0 + -4.871 x0 u0 + -2.513 x1 x2 + 0.461 x1 x3 + -7.965 x1 u0 + 0.013 x2 u0 + -1.662 u0^2 + 0.284 sin(1 x1) + -23.299 sin(1 x2)\n"
     ]
    }
   ],
   "source": [
    "model_sincos = get_sindy_model(train_traj, train_actions, threshold=0.6)\n",
    "print(\"model sin/cos train score:\", model_sincos.score(train_traj,u=train_actions,t=0.02,multiple_trajectories=True))\n",
    "print(\"model sin/cos test score:\", model_sincos.score(test_traj,u=test_actions,t=0.02,multiple_trajectories=True))\n",
    "model_sincos.print()"
   ]
  },
  {
   "cell_type": "code",
   "execution_count": 6,
   "metadata": {},
   "outputs": [],
   "source": [
    "model = model_sincos\n",
    "with open('sindy_model.pkl', 'wb') as f:\n",
    "    pickle.dump(model, f)"
   ]
  },
  {
   "cell_type": "code",
   "execution_count": 7,
   "metadata": {},
   "outputs": [
    {
     "name": "stdout",
     "output_type": "stream",
     "text": [
      "model theta train score: 0.6265674906041794\n",
      "model theta test score: 0.6210675414066351\n",
      "(x0)' = 0.994 x2\n",
      "(x1)' = 0.001 x3\n",
      "(x2)' = 22.733 u0 + -0.137 x1 u0 + -0.327 u0^2 + 0.755 cos(1 x1) + -21.197 sin(1 u0) + -0.024 cos(1 u0)\n",
      "(x3)' = 6.115 x0 + 6.367 x2 + -35.881 u0 + 1.233 x0 x1 + -6.791 x0 u0 + -2.150 x1 u0 + 14.564 x2^2 + -1.729 x2 u0 + -15.544 u0^2 + -6.550 sin(1 x0) + 0.529 cos(1 x0) + -20.023 cos(1 x1) + -7.290 sin(1 x2) + 32.729 cos(1 x2) + 40.301 sin(1 u0) + -33.039 cos(1 u0)\n"
     ]
    }
   ],
   "source": [
    "model_theta = get_sindy_model(train_theta, train_actions, threshold=0.5)\n",
    "print(\"model theta train score:\", model_theta.score(train_theta,u=train_actions,t=0.02,multiple_trajectories=True))\n",
    "print(\"model theta test score:\", model_theta.score(test_theta,u=test_actions,t=0.02,multiple_trajectories=True))\n",
    "model_theta.print()"
   ]
  },
  {
   "cell_type": "code",
   "execution_count": null,
   "metadata": {},
   "outputs": [],
   "source": []
  },
  {
   "cell_type": "code",
   "execution_count": null,
   "metadata": {},
   "outputs": [],
   "source": []
  }
 ],
 "metadata": {
  "kernelspec": {
   "display_name": "Python 3.9.13 ('pytorch')",
   "language": "python",
   "name": "python3"
  },
  "language_info": {
   "codemirror_mode": {
    "name": "ipython",
    "version": 3
   },
   "file_extension": ".py",
   "mimetype": "text/x-python",
   "name": "python",
   "nbconvert_exporter": "python",
   "pygments_lexer": "ipython3",
   "version": "3.9.13"
  },
  "orig_nbformat": 4,
  "vscode": {
   "interpreter": {
    "hash": "2d58e898dde0263bc564c6968b04150abacfd33eed9b19aaa8e45c040360e146"
   }
  }
 },
 "nbformat": 4,
 "nbformat_minor": 2
}
