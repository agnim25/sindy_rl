{
 "cells": [
  {
   "cell_type": "code",
   "execution_count": 1,
   "id": "1af57bde",
   "metadata": {},
   "outputs": [],
   "source": [
    "import gym\n",
    "import numpy as np\n",
    "from IPython import display\n",
    "import matplotlib.pyplot as plt\n",
    "from IPython.display import clear_output\n",
    "import torch\n",
    "import random\n",
    "import dill as pickle\n",
    "%matplotlib inline\n",
    "\n",
    "from stable_baselines import DDPG"
   ]
  },
  {
   "cell_type": "code",
   "execution_count": null,
   "id": "bb8123ff",
   "metadata": {},
   "outputs": [],
   "source": [
    "model = DDPG.load(DDPG, )"
   ]
  }
 ],
 "metadata": {
  "kernelspec": {
   "display_name": "Python 3 (ipykernel)",
   "language": "python",
   "name": "python3"
  },
  "language_info": {
   "codemirror_mode": {
    "name": "ipython",
    "version": 3
   },
   "file_extension": ".py",
   "mimetype": "text/x-python",
   "name": "python",
   "nbconvert_exporter": "python",
   "pygments_lexer": "ipython3",
   "version": "3.9.7"
  }
 },
 "nbformat": 4,
 "nbformat_minor": 5
}
