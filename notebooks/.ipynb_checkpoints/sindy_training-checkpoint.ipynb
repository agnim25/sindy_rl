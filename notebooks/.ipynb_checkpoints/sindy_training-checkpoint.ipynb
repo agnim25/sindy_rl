{
 "cells": [
  {
   "cell_type": "code",
   "execution_count": 17,
   "id": "ee186d75",
   "metadata": {},
   "outputs": [],
   "source": [
    "import gym\n",
    "import numpy as np\n",
    "from IPython import display\n",
    "import matplotlib.pyplot as plt\n",
    "from IPython.display import clear_output\n",
    "import torch\n",
    "import random\n",
    "import dill as pickle\n",
    "%matplotlib inline"
   ]
  },
  {
   "cell_type": "code",
   "execution_count": 2,
   "id": "abb7dd4f",
   "metadata": {},
   "outputs": [],
   "source": [
    "def get_screen():\n",
    "    ''' Extract one step of the simulation.'''\n",
    "    screen = env.render(mode='rgb_array').transpose((2, 0, 1))\n",
    "    screen = np.ascontiguousarray(screen, dtype=np.float32) / 255.\n",
    "    return torch.from_numpy(screen)"
   ]
  },
  {
   "cell_type": "code",
   "execution_count": 3,
   "id": "0fb2cb8f",
   "metadata": {},
   "outputs": [
    {
     "name": "stderr",
     "output_type": "stream",
     "text": [
      "/Users/agnimagarwal/opt/anaconda3/lib/python3.9/site-packages/gym/logger.py:30: UserWarning: \u001b[33mWARN: Box bound precision lowered by casting to float32\u001b[0m\n",
      "  warnings.warn(colorize('%s: %s'%('WARN', msg % args), 'yellow'))\n"
     ]
    }
   ],
   "source": [
    "env = gym.make('MountainCarContinuous-v0')\n",
    "\n",
    "trajectories = []\n",
    "actions = []\n",
    "num_trajs = 100\n",
    "for traj in range(num_trajs):\n",
    "    env.reset()\n",
    "    obs = []\n",
    "    ac = []\n",
    "    for i in range(1000):\n",
    "        a = env.action_space.sample()\n",
    "        ob, reward, terminated = env.step(a)[:3]\n",
    "        \n",
    "#         if traj == 1:\n",
    "#             clear_output(wait=True)\n",
    "#             plt.imshow(get_screen().cpu().permute(1, 2, 0).numpy(),\n",
    "#                        interpolation='none')\n",
    "#             plt.title('CartPole-v0 Environment')\n",
    "#             plt.xticks([])\n",
    "#             plt.yticks([])\n",
    "#             plt.show()\n",
    "\n",
    "        if terminated:\n",
    "            break\n",
    "        obs.append(ob)\n",
    "        ac.append(a)\n",
    "        # plt.imshow(env.render())\n",
    "        # display.display(plt.gcf())\n",
    "        # display.clear_output(wait=True)\n",
    "    trajectories.append(np.array(obs))\n",
    "    actions.append(np.array(ac))"
   ]
  },
  {
   "cell_type": "code",
   "execution_count": 4,
   "id": "c065bcbd",
   "metadata": {},
   "outputs": [],
   "source": [
    "import pysindy as ps\n",
    "# optimizer = ps.STLSQ(threshold=0.001)\n",
    "optimizer = ps.SR3(threshold=0.0001, max_iter=10000)\n",
    "der = ps.SmoothedFiniteDifference()\n",
    "    \n",
    "model = ps.SINDy(discrete_time=True, optimizer=optimizer,\n",
    "                 differentiation_method=der,\n",
    "                 feature_library=ps.ConcatLibrary([ps.FourierLibrary(), \n",
    "                                                   ps.PolynomialLibrary()]))"
   ]
  },
  {
   "cell_type": "code",
   "execution_count": 5,
   "id": "38b3e3e2",
   "metadata": {},
   "outputs": [
    {
     "data": {
      "text/plain": [
       "SINDy(differentiation_method=SmoothedFiniteDifference(), discrete_time=True,\n",
       "      feature_library=<pysindy.feature_library.base.ConcatLibrary object at 0x7fc0ac53de80>,\n",
       "      feature_names=['x0', 'x1', 'u0'],\n",
       "      optimizer=SR3(max_iter=10000, threshold=0.0001))"
      ]
     },
     "execution_count": 5,
     "metadata": {},
     "output_type": "execute_result"
    }
   ],
   "source": [
    "model.fit(x=trajectories,u=actions,multiple_trajectories=True)"
   ]
  },
  {
   "cell_type": "code",
   "execution_count": 6,
   "id": "3077785d",
   "metadata": {},
   "outputs": [
    {
     "name": "stdout",
     "output_type": "stream",
     "text": [
      "(x0)[k+1] = -0.051 sin(1 x0[k]) + -0.018 cos(1 x0[k]) + -2.490 sin(1 x1[k]) + -167.873 cos(1 x1[k]) + 0.001 cos(1 u0[k]) + 167.888 1 + 1.051 x0[k] + 3.491 x1[k] + 0.005 x0[k]^2 + 0.002 x0[k] x1[k] + -83.924 x1[k]^2\n",
      "(x1)[k+1] = -0.061 sin(1 x0[k]) + 0.006 cos(1 x0[k]) + -2.743 sin(1 x1[k]) + -253.000 cos(1 x1[k]) + 252.991 1 + 0.061 x0[k] + 3.744 x1[k] + 0.018 x0[k]^2 + 0.004 x0[k] x1[k] + -126.481 x1[k]^2\n"
     ]
    }
   ],
   "source": [
    "model.print()"
   ]
  },
  {
   "cell_type": "code",
   "execution_count": 7,
   "id": "2fb0792c",
   "metadata": {},
   "outputs": [
    {
     "data": {
      "text/plain": [
       "0.9977435798959782"
      ]
     },
     "execution_count": 7,
     "metadata": {},
     "output_type": "execute_result"
    }
   ],
   "source": [
    "model.score(trajectories,u=actions,multiple_trajectories=True)"
   ]
  },
  {
   "cell_type": "code",
   "execution_count": 18,
   "id": "9970125a",
   "metadata": {},
   "outputs": [],
   "source": [
    "with open('../model.pkl', 'wb') as f:\n",
    "    pickle.dump(model, f)"
   ]
  },
  {
   "cell_type": "code",
   "execution_count": null,
   "id": "1c128cbd",
   "metadata": {},
   "outputs": [],
   "source": []
  }
 ],
 "metadata": {
  "kernelspec": {
   "display_name": "Python 3 (ipykernel)",
   "language": "python",
   "name": "python3"
  },
  "language_info": {
   "codemirror_mode": {
    "name": "ipython",
    "version": 3
   },
   "file_extension": ".py",
   "mimetype": "text/x-python",
   "name": "python",
   "nbconvert_exporter": "python",
   "pygments_lexer": "ipython3",
   "version": "3.9.7"
  }
 },
 "nbformat": 4,
 "nbformat_minor": 5
}
